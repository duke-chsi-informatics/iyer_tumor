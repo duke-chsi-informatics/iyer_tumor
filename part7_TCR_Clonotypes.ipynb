{
 "cells": [
  {
   "cell_type": "markdown",
   "metadata": {},
   "source": [
    "# TCR Clonotypes"
   ]
  },
  {
   "cell_type": "code",
   "execution_count": null,
   "metadata": {},
   "outputs": [],
   "source": [
    "import sys\n",
    "import numpy as np\n",
    "sys.path.insert(0, \"../..\")\n",
    "import scirpy as ir\n",
    "import scanpy as sc\n",
    "from glob import glob\n",
    "import pandas as pd\n",
    "import tarfile\n",
    "import anndata\n",
    "import warnings\n",
    "from matplotlib import pyplot as plt\n",
    "from numba import NumbaPerformanceWarning\n",
    "\n",
    "# ignore numba performance warnings\n",
    "warnings.filterwarnings(\"ignore\", category=NumbaPerformanceWarning)\n",
    "\n",
    "# suppress \"storing XXX as categorical\" warnings.\n",
    "anndata.logging.anndata_logger.setLevel(\"ERROR\")"
   ]
  },
  {
   "cell_type": "code",
   "execution_count": null,
   "metadata": {},
   "outputs": [],
   "source": [
    "tcr_and_rna_combined = sc.read('/scratch/batch_corrected_umap.h5ad')"
   ]
  },
  {
   "cell_type": "code",
   "execution_count": null,
   "metadata": {},
   "outputs": [],
   "source": [
    "# We only select the cells that have TCR data\n",
    "tcr_and_rna_combined = tcr_and_rna_combined[tcr_and_rna_combined.obs['has_tcr']=='True']"
   ]
  },
  {
   "cell_type": "code",
   "execution_count": null,
   "metadata": {},
   "outputs": [],
   "source": [
    "ir.pp.tcr_neighbors(tcr_and_rna_combined, receptor_arms=\"all\", dual_tcr=\"primary_only\")\n",
    "# running this would add 'clonotype' and 'clonotyp_size' to the dataframe, which is important for clonotype expansion pipeline\n",
    "ir.tl.define_clonotypes(tcr_and_rna_combined)"
   ]
  },
  {
   "cell_type": "code",
   "execution_count": null,
   "metadata": {},
   "outputs": [],
   "source": [
    "ir.pp.tcr_neighbors(\n",
    "    tcr_and_rna_combined,\n",
    "    metric=\"alignment\",\n",
    "    sequence=\"aa\",\n",
    "    cutoff=5,\n",
    "    receptor_arms=\"all\",\n",
    "    dual_tcr=\"all\",\n",
    ")"
   ]
  },
  {
   "cell_type": "code",
   "execution_count": null,
   "metadata": {},
   "outputs": [],
   "source": [
    "ir.tl.define_clonotype_clusters(tcr_and_rna_combined, partitions=\"connected\", sequence=\"aa\", metric=\"alignment\")"
   ]
  },
  {
   "cell_type": "markdown",
   "metadata": {},
   "source": [
    "#### Just based on the clonotype network plot, primary tumor has far more varied clonotypes"
   ]
  },
  {
   "cell_type": "code",
   "execution_count": null,
   "metadata": {},
   "outputs": [],
   "source": [
    "ir.tl.clonotype_network(tcr_and_rna_combined, min_size=4, sequence=\"aa\", metric=\"alignment\")"
   ]
  },
  {
   "cell_type": "code",
   "execution_count": null,
   "metadata": {},
   "outputs": [],
   "source": [
    "ir.pl.clonotype_network(tcr_and_rna_combined, color=\"group\", size=60, panel_size=(12, 12))"
   ]
  },
  {
   "cell_type": "markdown",
   "metadata": {},
   "source": [
    "#### It is not surprised to see that primary and metastatic tumor tissues provide common clonotypes, but it is very interesting that 295 and 314 actually have a lot in common in their clonotypes."
   ]
  },
  {
   "cell_type": "code",
   "execution_count": null,
   "metadata": {},
   "outputs": [],
   "source": [
    "ir.pl.clonotype_network(tcr_and_rna_combined, color=\"sample\", size=60, panel_size=(12, 12))"
   ]
  },
  {
   "cell_type": "markdown",
   "metadata": {},
   "source": [
    "#### Examine information for clonotype cluster 4"
   ]
  },
  {
   "cell_type": "markdown",
   "metadata": {},
   "source": [
    "# Clonotype Expansion"
   ]
  },
  {
   "cell_type": "code",
   "execution_count": null,
   "metadata": {},
   "outputs": [],
   "source": [
    "ir.tl.clonal_expansion(tcr_and_rna_combined,clip_at=5)"
   ]
  },
  {
   "cell_type": "markdown",
   "metadata": {},
   "source": [
    "#### Most of the expanded clonotypes belong to the primary tumor group"
   ]
  },
  {
   "cell_type": "code",
   "execution_count": null,
   "metadata": {},
   "outputs": [],
   "source": [
    "sc.pl.umap(tcr_and_rna_combined, color=['clonal_expansion','clonotype_size','group'])"
   ]
  },
  {
   "cell_type": "markdown",
   "metadata": {},
   "source": [
    "#### The largest clonotypes belong to cluster 18 and cluster 35 both are T/NKT. "
   ]
  },
  {
   "cell_type": "markdown",
   "metadata": {},
   "source": [
    "#### The ratio of clonally expanded T-cells is also higher in primary tumor group"
   ]
  },
  {
   "cell_type": "code",
   "execution_count": null,
   "metadata": {},
   "outputs": [],
   "source": [
    "ir.pl.clonal_expansion(tcr_and_rna_combined, groupby='group', clip_at=5)"
   ]
  },
  {
   "cell_type": "markdown",
   "metadata": {},
   "source": [
    "#### Batch-wise, the ratio of clonally expanded T-cells are not drastically different which is a good signal."
   ]
  },
  {
   "cell_type": "code",
   "execution_count": null,
   "metadata": {},
   "outputs": [],
   "source": [
    "ir.pl.clonal_expansion(tcr_and_rna_combined, groupby='bat', clip_at=5)"
   ]
  },
  {
   "cell_type": "code",
   "execution_count": null,
   "metadata": {},
   "outputs": [],
   "source": [
    "fig, ax = plt.subplots(figsize=(25, 12))\n",
    "ir.pl.clonal_expansion(tcr_and_rna_combined, groupby='sample', clip_at=5,ax=ax)"
   ]
  },
  {
   "cell_type": "code",
   "execution_count": null,
   "metadata": {
    "scrolled": false
   },
   "outputs": [],
   "source": [
    "fig, ax = plt.subplots(figsize=(25, 12))\n",
    "ir.pl.clonal_expansion(tcr_and_rna_combined, groupby='leiden', clip_at=5,ax=ax)"
   ]
  },
  {
   "cell_type": "markdown",
   "metadata": {},
   "source": [
    "#### Clonotype frequency of primary tumor completely takes over "
   ]
  },
  {
   "cell_type": "code",
   "execution_count": null,
   "metadata": {},
   "outputs": [],
   "source": [
    "fig, ax = plt.subplots(figsize=(25, 12))\n",
    "ax = ir.pl.group_abundance(tcr_and_rna_combined, groupby=\"clonotype\", target_col=\"group\", sort='count',max_cols=15,normalize='clonotype', fig_kws={\"dpi\": 100},ax=ax)"
   ]
  },
  {
   "cell_type": "code",
   "execution_count": null,
   "metadata": {
    "scrolled": false
   },
   "outputs": [],
   "source": [
    "fig, ax = plt.subplots(figsize=(25, 12))\n",
    "ir.pl.group_abundance(tcr_and_rna_combined, groupby=\"clonotype\", target_col=\"sample\",max_cols=15,ax=ax)"
   ]
  },
  {
   "cell_type": "code",
   "execution_count": null,
   "metadata": {},
   "outputs": [],
   "source": [
    "fig, ax = plt.subplots(figsize=(25, 12))\n",
    "ir.pl.group_abundance(tcr_and_rna_combined, groupby='clonotype', normalize='clonotype',target_col='sample',max_cols=15,ax=ax)\n"
   ]
  },
  {
   "cell_type": "markdown",
   "metadata": {},
   "source": [
    "#### We can extract clonotype information in more details"
   ]
  },
  {
   "cell_type": "code",
   "execution_count": null,
   "metadata": {},
   "outputs": [],
   "source": [
    "tcr_and_rna_combined.obs.loc[\n",
    "    tcr_and_rna_combined.obs[\"ct_cluster_aa_alignment\"] == \"450\",\n",
    "    [\"TRA_1_cdr3\", \"TRA_2_cdr3\", \"TRB_1_cdr3\", \"TRB_2_cdr3\"],\n",
    "]"
   ]
  },
  {
   "cell_type": "markdown",
   "metadata": {},
   "source": [
    "# Major Clonotypes Shift (not complete yet) "
   ]
  },
  {
   "cell_type": "code",
   "execution_count": null,
   "metadata": {},
   "outputs": [],
   "source": [
    "#primary = tcr_and_rna_combined[tcr_and_rna_combined.obs['group']=='primary']\n",
    "#metastatic = tcr_and_rna_combined[tcr_and_rna_combined.obs['group']=='metastatic']\n",
    "#ir.pp.tcr_neighbors(primary, receptor_arms=\"all\", dual_tcr=\"primary_only\")\n",
    "\n",
    "# running this would add 'clonotype' and 'clonotyp_size' to the dataframe, which is important for clonotype expansion pipeline\n",
    "#ir.tl.define_clonotypes(primary)\n",
    "\n",
    "#ir.pp.tcr_neighbors(metastatic, receptor_arms=\"all\", dual_tcr=\"primary_only\")\n",
    "# running this would add 'clonotype' and 'clonotyp_size' to the dataframe, which is important for clonotype expansion pipeline\n",
    "#ir.tl.define_clonotypes(metastatic)"
   ]
  },
  {
   "cell_type": "code",
   "execution_count": null,
   "metadata": {},
   "outputs": [],
   "source": [
    "#ir.tl.clonal_expansion(primary,clip_at=5)\n",
    "#ir.tl.clonal_expansion(metastatic,clip_at=5)"
   ]
  },
  {
   "cell_type": "code",
   "execution_count": null,
   "metadata": {},
   "outputs": [],
   "source": [
    "#fig, ax = plt.subplots(figsize=(25, 12))\n",
    "#ir.pl.group_abundance(primary, groupby=\"clonotype\", target_col=\"sample\",max_cols=15,ax=ax)"
   ]
  },
  {
   "cell_type": "markdown",
   "metadata": {},
   "source": [
    "# Repertoire Simiarity"
   ]
  },
  {
   "cell_type": "code",
   "execution_count": null,
   "metadata": {},
   "outputs": [],
   "source": [
    "df, dst, lk = ir.tl.repertoire_overlap(tcr_and_rna_combined, 'sample', inplace=False)"
   ]
  },
  {
   "cell_type": "markdown",
   "metadata": {},
   "source": [
    "#### Primary and metastatic samples of the same patient are more closely related which is understandable. What's interesting in this plot is the high similarity between sample 295 and 314. This can also be seen from the clonotype network plot which shows that 295 and 314 do share a lot of common clonotypes."
   ]
  },
  {
   "cell_type": "code",
   "execution_count": null,
   "metadata": {},
   "outputs": [],
   "source": [
    "ir.pl.repertoire_overlap(tcr_and_rna_combined, 'sample', heatmap_cats=['bat', 'group'])"
   ]
  },
  {
   "cell_type": "code",
   "execution_count": null,
   "metadata": {},
   "outputs": [],
   "source": [
    "import pickle \n",
    "object = Object() \n",
    "filehandler = open(filename, 'w') \n",
    "pickle.dump(object, filehandler)"
   ]
  },
  {
   "cell_type": "code",
   "execution_count": null,
   "metadata": {},
   "outputs": [],
   "source": []
  }
 ],
 "metadata": {
  "kernelspec": {
   "display_name": "Python 3",
   "language": "python",
   "name": "python3"
  },
  "language_info": {
   "codemirror_mode": {
    "name": "ipython",
    "version": 3
   },
   "file_extension": ".py",
   "mimetype": "text/x-python",
   "name": "python",
   "nbconvert_exporter": "python",
   "pygments_lexer": "ipython3",
   "version": "3.6.9"
  }
 },
 "nbformat": 4,
 "nbformat_minor": 4
}

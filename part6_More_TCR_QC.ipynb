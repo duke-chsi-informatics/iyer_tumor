{
 "cells": [
  {
   "cell_type": "code",
   "execution_count": null,
   "metadata": {},
   "outputs": [],
   "source": [
    "import sys\n",
    "import numpy as np\n",
    "sys.path.insert(0, \"../..\")\n",
    "import scirpy as ir\n",
    "import scanpy as sc\n",
    "from glob import glob\n",
    "import pandas as pd\n",
    "import tarfile\n",
    "import anndata\n",
    "import warnings\n",
    "from matplotlib import pyplot as plt\n",
    "from numba import NumbaPerformanceWarning\n",
    "\n",
    "# ignore numba performance warnings\n",
    "warnings.filterwarnings(\"ignore\", category=NumbaPerformanceWarning)\n",
    "\n",
    "# suppress \"storing XXX as categorical\" warnings.\n",
    "anndata.logging.anndata_logger.setLevel(\"ERROR\")"
   ]
  },
  {
   "cell_type": "code",
   "execution_count": null,
   "metadata": {},
   "outputs": [],
   "source": [
    "data_sets =['289_Pri','290_Pri','295','296_Pri_CD8pos','305_1_Pri','307_Pri','309_Pri','310','314','316',\n",
    "                '290_LN2','291_Pri','296_Pri_CD8neg','304_Pri','305_2_Pri','307_sLN','309_sLN','313','315']"
   ]
  },
  {
   "cell_type": "code",
   "execution_count": null,
   "metadata": {},
   "outputs": [],
   "source": [
    "combined = sc.read('/scratch/batch_corrected_umap.h5ad')"
   ]
  },
  {
   "cell_type": "markdown",
   "metadata": {},
   "source": [
    "## QC for TCR data by sample"
   ]
  },
  {
   "cell_type": "code",
   "execution_count": null,
   "metadata": {},
   "outputs": [],
   "source": [
    "## look at NKT and B cell markers for 307_sLN B:CD19,CD20 NKT:CD56\n",
    "## confirm tcr on umap clustering\n",
    "## making points transparent\n",
    "## put all samples together and see whether cells have tcr data cluster\n",
    "\n",
    "## get cell identity of the cells that have tcr but do not express t-cell genes"
   ]
  },
  {
   "cell_type": "code",
   "execution_count": null,
   "metadata": {
    "scrolled": false
   },
   "outputs": [],
   "source": [
    "for data_set in data_sets:\n",
    "    print('For '+data_set)\n",
    "    sc.pl.umap(combined[combined.obs['sample']==data_set],color=['has_tcr'],groups='True')\n",
    "    sc.pl.umap(combined[combined.obs['sample']==data_set],color=['CD3E','CD2'],vmax=10)"
   ]
  },
  {
   "cell_type": "markdown",
   "metadata": {},
   "source": [
    "#### Most TCR data seems fine except for 307_sLN, where there is a chunk of cell (bottom-left) that doesn't have TCR data but express CD3E and CD2 and the cells that have TCR data actually have relatively low expression of CD3E and CD2. Since in the samples we have a lot of B cells and NK cells as well and some of those could also express certain T cell genes, we take a look at a few particular markers for B cells and NK cells for 307_sLN."
   ]
  },
  {
   "cell_type": "code",
   "execution_count": null,
   "metadata": {
    "scrolled": false
   },
   "outputs": [],
   "source": [
    "# Check for B-cell receptor gene CD19 and NK cell marker gene CCR6\n",
    "sc.pl.umap(combined[combined.obs['sample']=='307_sLN'],color=['has_tcr'],groups='True')\n",
    "sc.pl.umap(combined[combined.obs['sample']=='307_sLN'],color=['CD19','CCR6'],vmax=10)"
   ]
  },
  {
   "cell_type": "markdown",
   "metadata": {},
   "source": [
    "## Examine overall clustering for cells that have TCR data and expression of T-cell marker genes"
   ]
  },
  {
   "cell_type": "code",
   "execution_count": null,
   "metadata": {
    "scrolled": false
   },
   "outputs": [],
   "source": [
    "sc.pl.umap(combined, color=['has_tcr'],groups='True')\n",
    "sc.pl.umap(combined, color=['CD3E','CD2'],vmax=5) # cap the expression level at 5 to increase visibility"
   ]
  },
  {
   "cell_type": "markdown",
   "metadata": {},
   "source": []
  },
  {
   "cell_type": "code",
   "execution_count": null,
   "metadata": {},
   "outputs": [],
   "source": []
  }
 ],
 "metadata": {
  "kernelspec": {
   "display_name": "Python 3",
   "language": "python",
   "name": "python3"
  },
  "language_info": {
   "codemirror_mode": {
    "name": "ipython",
    "version": 3
   },
   "file_extension": ".py",
   "mimetype": "text/x-python",
   "name": "python",
   "nbconvert_exporter": "python",
   "pygments_lexer": "ipython3",
   "version": "3.6.9"
  }
 },
 "nbformat": 4,
 "nbformat_minor": 4
}

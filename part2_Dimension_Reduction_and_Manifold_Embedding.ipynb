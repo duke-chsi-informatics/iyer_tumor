{
 "cells": [
  {
   "cell_type": "markdown",
   "metadata": {},
   "source": [
    "# Set up Environment"
   ]
  },
  {
   "cell_type": "code",
   "execution_count": null,
   "metadata": {},
   "outputs": [],
   "source": [
    "import scanpy as sc\n",
    "import pandas as pd\n",
    "import seaborn as sns\n",
    "import copy\n",
    "import numpy as np\n",
    "from matplotlib import pyplot as plt\n",
    "import warnings\n",
    "warnings.filterwarnings('ignore')"
   ]
  },
  {
   "cell_type": "code",
   "execution_count": null,
   "metadata": {},
   "outputs": [],
   "source": [
    "sc.settings.verbosity = 3             # verbosity: errors (0), warnings (1), info (2), hints (3)\n",
    "sc.logging.print_versions()\n",
    "sc.settings.set_figure_params(dpi=80, facecolor='white')"
   ]
  },
  {
   "cell_type": "code",
   "execution_count": null,
   "metadata": {},
   "outputs": [],
   "source": [
    "combined = sc.read('/scratch/qc_filtered_combined_samples.h5ad')"
   ]
  },
  {
   "cell_type": "markdown",
   "metadata": {},
   "source": [
    "# Select the Cells of Interest"
   ]
  },
  {
   "cell_type": "markdown",
   "metadata": {},
   "source": [
    "#### Before any further analysis we will exclude the cells that are neither CD8+ nor TCR+. First select the TCR and CD8 genes. #### Even though drop-out events are possible, it is extremely unlikely if drop-outs happen simultaneous for all 160 genes of a single cell. So by doing this we are almost 100% confident that we are subsetting all the T-cells, especially all of the CD8 T-cells"
   ]
  },
  {
   "cell_type": "code",
   "execution_count": null,
   "metadata": {},
   "outputs": [],
   "source": [
    "selected_genes = combined.var_names.str.startswith((\"TRAV\",\"TRAJ\",\"TRBV\",\"TRBD\",\"TRBJ\",\"CD8A\",\"CD8B\"))\n",
    "CD8_related_genes = set(combined[:,selected_genes].var_names)"
   ]
  },
  {
   "cell_type": "code",
   "execution_count": null,
   "metadata": {},
   "outputs": [],
   "source": [
    "print(\"There are {} genes selected\".format(len(CD8_related_genes)))"
   ]
  },
  {
   "cell_type": "code",
   "execution_count": null,
   "metadata": {},
   "outputs": [],
   "source": [
    "kept_cells = combined[:,'CD8A'].X>0\n",
    "for gene in set(CD8_related_genes):\n",
    "    kept_cells = kept_cells + (combined[:,gene].X>0)"
   ]
  },
  {
   "cell_type": "code",
   "execution_count": null,
   "metadata": {},
   "outputs": [],
   "source": [
    "# Now abusing the notation ( we again call it \"combined\" so that we don't have to change the rest of the code), we subset \n",
    "# the cells using the genes \n",
    "combined = combined[kept_cells,:]"
   ]
  },
  {
   "cell_type": "markdown",
   "metadata": {},
   "source": [
    "# Select Important and Highly Variable Genes"
   ]
  },
  {
   "cell_type": "markdown",
   "metadata": {},
   "source": [
    "#### Find highly variable features/genes that will also provide a good separation of the cell types and cell clusters."
   ]
  },
  {
   "cell_type": "code",
   "execution_count": null,
   "metadata": {},
   "outputs": [],
   "source": [
    "# compute variable genes\n",
    "sc.pp.highly_variable_genes(combined, flavor='seurat_v3',n_top_genes=500)\n",
    "print(\"Highly variable genes: {}\".format(sum(combined.var.highly_variable)))\n",
    "\n",
    "# plot variable genes\n",
    "sc.pl.highly_variable_genes(combined)"
   ]
  },
  {
   "cell_type": "markdown",
   "metadata": {},
   "source": [
    "CD62L,L-selectin: 'SELL', CD45: 'PTPRC', CD95:'FAS'"
   ]
  },
  {
   "cell_type": "code",
   "execution_count": null,
   "metadata": {},
   "outputs": [],
   "source": [
    "important_marker_genes = ['CD8A','CD8B','PTPRC','TBX21','CCR5','CXCR3','IL7','SELL','GATA3','CCR6','IL4','GZMB',\n",
    "                          'PRF1','IL2RB','IL2RA','FOXP3','CD28','IL10','CD44','EOMES','IL17A','IL17B','IL17C','IL10','CD69'\n",
    "                          'CD27','FAS','KLRG1','CCR7','GZMA','GZMH','GZMK','GZMM','GNYL','ENTPD1','TCF7','ITGAE','CTSW', \n",
    "                          'IFNG','CD161','TNFRSF4','TNFRSF18','NKG7','B3GAT1']"
   ]
  },
  {
   "cell_type": "code",
   "execution_count": null,
   "metadata": {},
   "outputs": [],
   "source": [
    "important_nonmarker_genes = ['CD4','CD68','CD163','MS4A2','CD14','CD16','XCL2','COL1A2','MMP2','ACTA2','CD79A',\n",
    "                             'LAMP3','TPSAB1','PECAM1']"
   ]
  },
  {
   "cell_type": "markdown",
   "metadata": {},
   "source": [
    "PD-1: 'PDCD1', TIM3:'HAVCR2'"
   ]
  },
  {
   "cell_type": "code",
   "execution_count": null,
   "metadata": {},
   "outputs": [],
   "source": [
    "exhaustion_markers = ['CXCL13','CTLA4','PDCD1','HAVCR2','TIGIT','BTLA','CD244','CD160','ICOS','LAG3']"
   ]
  },
  {
   "cell_type": "markdown",
   "metadata": {},
   "source": [
    "CD137:'TNFRSF9', KI67:'MKI67'"
   ]
  },
  {
   "cell_type": "code",
   "execution_count": null,
   "metadata": {},
   "outputs": [],
   "source": [
    "proliferation_markers = ['TOP2A','MKI67','TNFRSF9'] "
   ]
  },
  {
   "cell_type": "code",
   "execution_count": null,
   "metadata": {},
   "outputs": [],
   "source": [
    "#HLA_class1_genes = combined.var_names.str.startswith(('HLA-A','HLA-B','HLA-C','HLA-E','HLA-F','HLA-G'))\n",
    "#HLA_class2_genes = combined.var_names.str.startswith(('HLA-DM','HLA-DQ','HLA-DO','HLA-DP','HLA-DR'))\n",
    "#HLA_class1_genes = list(combined[:,HLA_class1_genes].var_names)\n",
    "#HLA_class2_genes = list(combined[:,HLA_class2_genes].var_names)"
   ]
  },
  {
   "cell_type": "code",
   "execution_count": null,
   "metadata": {},
   "outputs": [],
   "source": [
    "important_genes = important_marker_genes + important_nonmarker_genes+exhaustion_markers+proliferation_markers"
   ]
  },
  {
   "cell_type": "code",
   "execution_count": null,
   "metadata": {},
   "outputs": [],
   "source": [
    "# filter out the TCR genes in case their idiosyncrasy skews the clustering \n",
    "selected = list(combined.var_names.str.startswith((\"TRA\",\"TRB\",\"HLA\")))\n",
    "TCR_genes = set(combined[:,selected].var_names)\n",
    "for gene in TCR_genes:\n",
    "    combined.var['highly_variable'][gene] = False"
   ]
  },
  {
   "cell_type": "code",
   "execution_count": null,
   "metadata": {},
   "outputs": [],
   "source": [
    "# restore the genes in case they are filtered out, all genes (including top 200 and the important markers \n",
    "# are stored as highly variable)\n",
    "for gene in important_genes:\n",
    "    combined.var['highly_variable'][gene] = True"
   ]
  },
  {
   "cell_type": "code",
   "execution_count": null,
   "metadata": {},
   "outputs": [],
   "source": [
    "# combined.raw stores a scopy of the data at current stage\n",
    "# we do this since we will trim genes and only use the top few hundreds for clustering, yet we want to retain all genes for\n",
    "# differential expression purposes"
   ]
  },
  {
   "cell_type": "code",
   "execution_count": null,
   "metadata": {},
   "outputs": [],
   "source": [
    "combined.raw = combined\n",
    "combined = combined[:, combined.var['highly_variable']]"
   ]
  },
  {
   "cell_type": "markdown",
   "metadata": {},
   "source": [
    "## PCA"
   ]
  },
  {
   "cell_type": "code",
   "execution_count": null,
   "metadata": {},
   "outputs": [],
   "source": [
    "# Extract cell cycle genes \n",
    "cell_cycle_genes = [x.strip() for x in open('/work/cell_cycle_genes.txt')]\n",
    "\n",
    "s_genes = cell_cycle_genes[:43]\n",
    "g2m_genes = cell_cycle_genes[43:]\n",
    "cell_cycle_genes = [x for x in cell_cycle_genes if x in combined.var_names]"
   ]
  },
  {
   "cell_type": "code",
   "execution_count": null,
   "metadata": {},
   "outputs": [],
   "source": [
    "# compute gene scores for cell cycle genes which we will regress out\n",
    "sc.tl.score_genes_cell_cycle(combined, s_genes=s_genes, g2m_genes=g2m_genes)"
   ]
  },
  {
   "cell_type": "code",
   "execution_count": null,
   "metadata": {},
   "outputs": [],
   "source": [
    "# regress out effects of total counts per cell and scale genes to have unit variance\n",
    "sc.pp.regress_out(combined, ['total_counts', 'S_score', 'G2M_score'])\n",
    "sc.pp.scale(combined, zero_center=False, max_value=10)\n",
    "\n",
    "sc.tl.pca(combined, svd_solver='arpack',n_comps=100,use_highly_variable=True)\n",
    "sc.pl.pca_variance_ratio(combined, log=True, n_pcs = 100)"
   ]
  },
  {
   "cell_type": "code",
   "execution_count": null,
   "metadata": {},
   "outputs": [],
   "source": [
    "save_file = '/scratch/PCA_decomposed_combined_samples.h5ad'\n",
    "combined.write_h5ad(save_file)"
   ]
  },
  {
   "cell_type": "markdown",
   "metadata": {},
   "source": [
    "# Dimension Reduction by Manifold Embedding"
   ]
  },
  {
   "cell_type": "markdown",
   "metadata": {},
   "source": [
    "## UMAP without Batch Correction"
   ]
  },
  {
   "cell_type": "code",
   "execution_count": null,
   "metadata": {},
   "outputs": [],
   "source": [
    "combined1 = copy.deepcopy(combined)"
   ]
  },
  {
   "cell_type": "code",
   "execution_count": null,
   "metadata": {},
   "outputs": [],
   "source": [
    "# compute neighbor graph\n",
    "# the choice of n_pcs=35 is determined by sensiticity analysis on n_pcs\n",
    "# for more details of choosing n_pcs, see part5_Sensitivity_Analysis_on_PC_Num\n",
    "sc.pp.neighbors(combined1, n_neighbors=10, n_pcs=35)"
   ]
  },
  {
   "cell_type": "code",
   "execution_count": null,
   "metadata": {},
   "outputs": [],
   "source": [
    "# compute umap projection\n",
    "uncorrected_umap = sc.tl.umap(combined1, n_components=2, copy=True,min_dist=0.05)\n",
    "# Leiden clustering\n",
    "sc.tl.leiden(uncorrected_umap)"
   ]
  },
  {
   "cell_type": "code",
   "execution_count": null,
   "metadata": {},
   "outputs": [],
   "source": [
    "# save file before we rank genes (by differential expression) for cluster identification\n",
    "# we will rank genes in two-ways: with selected top genes and with all genes\n",
    "save_file = '/scratch/uncorrected_umap.h5ad'\n",
    "uncorrected_umap.write_h5ad(save_file)"
   ]
  },
  {
   "cell_type": "markdown",
   "metadata": {},
   "source": [
    "## UMAP with Batch Correction"
   ]
  },
  {
   "cell_type": "code",
   "execution_count": null,
   "metadata": {},
   "outputs": [],
   "source": [
    "# bbknn is a batch correction algorithm that also computes neighbor graph (two birds with one stone)\n",
    "sc.external.pp.bbknn(combined, batch_key='bat', n_pcs=30)"
   ]
  },
  {
   "cell_type": "code",
   "execution_count": null,
   "metadata": {},
   "outputs": [],
   "source": [
    "# project to a 2-dimensional subspace, save to a new object so that the umap with 2D is not overwritten.\n",
    "batch_corrected_umap = sc.tl.umap(combined, n_components=2, copy=True,min_dist=0.05)"
   ]
  },
  {
   "cell_type": "code",
   "execution_count": null,
   "metadata": {},
   "outputs": [],
   "source": [
    "# Leiden clustering\n",
    "sc.tl.leiden(batch_corrected_umap)\n",
    "# find marker genes\n",
    "sc.tl.rank_genes_groups(batch_corrected_umap, groupby='leiden',method='wilcoxon')"
   ]
  },
  {
   "cell_type": "code",
   "execution_count": null,
   "metadata": {},
   "outputs": [],
   "source": [
    "# save file \n",
    "save_file = '/scratch/batch_corrected_umap.h5ad'\n",
    "batch_corrected_umap.write_h5ad(save_file)"
   ]
  },
  {
   "cell_type": "markdown",
   "metadata": {},
   "source": [
    "## Exporting PCA and UMAP Represented Data Matrix "
   ]
  },
  {
   "cell_type": "markdown",
   "metadata": {},
   "source": [
    "#### We export these matrices for trajectory analysis with TSCAN"
   ]
  },
  {
   "cell_type": "code",
   "execution_count": null,
   "metadata": {},
   "outputs": [],
   "source": [
    "# extract PCA matrix from the scanpy data object and make cells into columns and coordinates into rows\n",
    "PCA_matrix = pd.DataFrame(uncorrected_umap.obsm['X_pca'].T)\n",
    "# change the coordinate names into PC_k\n",
    "PCA_matrix.index = ['PC_'+str(i) for i in range(1,len(PCA_matrix.index)+1)]\n",
    "# change cell names into cell_i\n",
    "PCA_matrix.columns = ['cell'+str(i) for i in range(1,len(PCA_matrix.columns)+1)]\n",
    "# extract umap cluster assignment for each cell and make into a dataframe\n",
    "umap_cluster = uncorrected_umap.obs['leiden'].T.tolist()\n",
    "umap_cluster = pd.DataFrame([umap_cluster],columns=PCA_matrix.columns)\n",
    "umap_cluster.index = ['cluster']\n",
    "# merge umap assignment into PCA data frame\n",
    "PCA_matrix = PCA_matrix.append(umap_cluster)"
   ]
  },
  {
   "cell_type": "code",
   "execution_count": null,
   "metadata": {},
   "outputs": [],
   "source": [
    "PCA_matrix.to_csv('/scratch/PCA_mapped_cell_coordinates.csv')"
   ]
  },
  {
   "cell_type": "code",
   "execution_count": null,
   "metadata": {},
   "outputs": [],
   "source": [
    "UMAP_coordinate = pd.DataFrame(uncorrected_umap.obsm['X_umap'])\n",
    "UMAP_coordinate.columns = ['UMAP_'+str(i) for i in range(1,len(UMAP_coordinate.columns)+1)]\n",
    "UMAP_coordinate.index = ['cell'+str(i) for i in range(1,len(UMAP_coordinate.index)+1)]\n",
    "UMAP_coordinate['cluster'] = uncorrected_umap.obs['leiden'].tolist()"
   ]
  },
  {
   "cell_type": "code",
   "execution_count": null,
   "metadata": {},
   "outputs": [],
   "source": [
    "UMAP_coordinate = UMAP_coordinate.transpose()"
   ]
  },
  {
   "cell_type": "code",
   "execution_count": null,
   "metadata": {},
   "outputs": [],
   "source": [
    "UMAP_coordinate.to_csv('/scratch/UMAP_mapped_cell_coordinates.csv')"
   ]
  },
  {
   "cell_type": "code",
   "execution_count": null,
   "metadata": {},
   "outputs": [],
   "source": []
  }
 ],
 "metadata": {
  "kernelspec": {
   "display_name": "Python 3",
   "language": "python",
   "name": "python3"
  },
  "language_info": {
   "codemirror_mode": {
    "name": "ipython",
    "version": 3
   },
   "file_extension": ".py",
   "mimetype": "text/x-python",
   "name": "python",
   "nbconvert_exporter": "python",
   "pygments_lexer": "ipython3",
   "version": "3.6.9"
  }
 },
 "nbformat": 4,
 "nbformat_minor": 4
}

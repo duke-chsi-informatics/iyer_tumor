{
 "cells": [
  {
   "cell_type": "code",
   "execution_count": null,
   "metadata": {},
   "outputs": [],
   "source": [
    "import sys\n",
    "import numpy as np\n",
    "sys.path.insert(0, \"../..\")\n",
    "import scirpy as ir\n",
    "import scanpy as sc\n",
    "from glob import glob\n",
    "import pandas as pd\n",
    "import tarfile\n",
    "import anndata\n",
    "import warnings\n",
    "from matplotlib import pyplot as plt\n",
    "from numba import NumbaPerformanceWarning\n",
    "\n",
    "# ignore numba performance warnings\n",
    "warnings.filterwarnings(\"ignore\")\n",
    "\n",
    "# suppress \"storing XXX as categorical\" warnings.\n",
    "anndata.logging.anndata_logger.setLevel(\"ERROR\")"
   ]
  },
  {
   "cell_type": "code",
   "execution_count": null,
   "metadata": {},
   "outputs": [],
   "source": [
    "cluster_data = sc.read('/scratch/uncorrected_umap.h5ad')\n",
    "sc.tl.draw_graph(cluster_data)\n",
    "sc.tl.paga(cluster_data, groups='leiden')  "
   ]
  },
  {
   "cell_type": "code",
   "execution_count": null,
   "metadata": {
    "scrolled": false
   },
   "outputs": [],
   "source": [
    "figure,ax = plt.subplots(figsize=(25, 12))\n",
    "sc.pl.paga(cluster_data, color=['leiden'],threshold=0.26, show=False, ax=ax)\n",
    "plt.show()\n",
    "figure,ax = plt.subplots(figsize=(25, 12))\n",
    "sc.pl.draw_graph(cluster_data, color=['leiden'], legend_loc='on data',ax=ax)\n",
    "plt.show()"
   ]
  },
  {
   "cell_type": "code",
   "execution_count": null,
   "metadata": {},
   "outputs": [],
   "source": [
    "sc.tl.draw_graph(cluster_data, init_pos='paga')"
   ]
  },
  {
   "cell_type": "code",
   "execution_count": null,
   "metadata": {},
   "outputs": [],
   "source": [
    "sc.pl.draw_graph(cluster_data, color=['leiden'])"
   ]
  },
  {
   "cell_type": "code",
   "execution_count": null,
   "metadata": {},
   "outputs": [],
   "source": [
    "cluster_data.uns['iroot'] = np.flatnonzero(cluster_data.obs['leiden']  == '32')[0]"
   ]
  },
  {
   "cell_type": "code",
   "execution_count": null,
   "metadata": {},
   "outputs": [],
   "source": [
    "sc.tl.dpt(cluster_data)"
   ]
  },
  {
   "cell_type": "code",
   "execution_count": null,
   "metadata": {},
   "outputs": [],
   "source": [
    "figure,ax = plt.subplots(figsize=(15, 10))\n",
    "sc.pl.draw_graph(cluster_data, color=['dpt_pseudotime'], legend_loc='on data',ax=ax)"
   ]
  },
  {
   "cell_type": "code",
   "execution_count": null,
   "metadata": {},
   "outputs": [],
   "source": []
  }
 ],
 "metadata": {
  "kernelspec": {
   "display_name": "Python 3",
   "language": "python",
   "name": "python3"
  },
  "language_info": {
   "codemirror_mode": {
    "name": "ipython",
    "version": 3
   },
   "file_extension": ".py",
   "mimetype": "text/x-python",
   "name": "python",
   "nbconvert_exporter": "python",
   "pygments_lexer": "ipython3",
   "version": "3.6.9"
  }
 },
 "nbformat": 4,
 "nbformat_minor": 4
}

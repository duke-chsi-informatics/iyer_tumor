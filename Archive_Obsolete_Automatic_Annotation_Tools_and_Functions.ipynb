{
 "cells": [
  {
   "cell_type": "markdown",
   "metadata": {},
   "source": [
    "## Utility Functions"
   ]
  },
  {
   "cell_type": "code",
   "execution_count": null,
   "metadata": {},
   "outputs": [],
   "source": [
    "# Make cluster by cluster plots\n",
    "def plot_by_cluster(adata, clust_key, size=60, legend_loc=None, **kwargs):\n",
    "    tmp = adata.copy()\n",
    "\n",
    "    for i,clust in enumerate(adata.obs[clust_key].cat.categories):\n",
    "        tmp.obs[clust] = adata.obs[clust_key].isin([clust]).astype('category')\n",
    "        tmp.uns[clust+'_colors'] = ['#d3d3d3', adata.uns[clust_key+'_colors'][i]]\n",
    "\n",
    "    sc.pl.umap(tmp, groups=tmp.obs[clust].cat.categories[1:].values, color=adata.obs[clust_key].cat.categories.tolist(), size=size, legend_loc=legend_loc, **kwargs)"
   ]
  },
  {
   "cell_type": "code",
   "execution_count": null,
   "metadata": {},
   "outputs": [],
   "source": [
    "# Map annotations to abbreviated names\n",
    "def annotation_abbr(annotations):\n",
    "    tmp = []\n",
    "    for ann in annotations:\n",
    "        ann = ann.replace('Natural killer T (NKT) cell','NKT')\n",
    "        ann = ann.replace('Hematopoietic stem cell','HSC')\n",
    "        ann = ann.replace('Mesenchymal stem cell','MSC')\n",
    "        ann = ann.replace('Natural killer cell','NK')\n",
    "        ann = ann.replace('Embryonic stem cell','ESC')\n",
    "        ann = ann.replace('Regulatory T (Treg) cell', 'Treg')\n",
    "        ann = ann.replace(' (Th1)','')\n",
    "        ann = ann.replace('T helper', 'Th')\n",
    "        ann = ann.replace(' cell','')\n",
    "        ann = ann.replace('-','UND')\n",
    "        tmp.append(ann)\n",
    "    return tmp"
   ]
  },
  {
   "cell_type": "code",
   "execution_count": null,
   "metadata": {},
   "outputs": [],
   "source": [
    "def names_make_unique(annotations):\n",
    "    ann_dic = {}\n",
    "    # construct dictionary for all names, cluster indices will be stored for each name\n",
    "    for i,ann in enumerate(annotations):\n",
    "        if ann_dic.get(ann)==None:\n",
    "            ann_dic[ann] = [i]\n",
    "        else:\n",
    "            ann_dic[ann].append(i)\n",
    "    #  \n",
    "    for ann in ann_dic:\n",
    "        num = len(ann_dic[ann])\n",
    "        if num > 1:\n",
    "            for indx in ann_dic[ann]:\n",
    "                annotations[indx] = '('+ann+')'+'_'+ str(num)\n",
    "                num -= 1\n",
    "    return annotations"
   ]
  },
  {
   "cell_type": "markdown",
   "metadata": {},
   "source": [
    "## Automated Annotation"
   ]
  },
  {
   "cell_type": "markdown",
   "metadata": {},
   "source": [
    "#### We use SCSA to help annotate the clusters. SCSA annotation is based on a few manually curated database. Instructions can be found https://github.com/bioinfo-ibms-pumc/SCSA."
   ]
  },
  {
   "cell_type": "code",
   "execution_count": null,
   "metadata": {},
   "outputs": [],
   "source": [
    "# %%bash\n",
    "\n",
    "# cd /SCSA\n",
    "# python3 SCSA.py -d whole.db -i /scratch/umap_cluster.csv -s scanpy -E -f1.5 -p 0.01 -o /scratch/umap_annotation_result -m txt "
   ]
  },
  {
   "cell_type": "code",
   "execution_count": null,
   "metadata": {},
   "outputs": [],
   "source": [
    "# copy and paste the raw output for umap\n",
    "umap_annotation_output=[['0', 'Good', 'B cell', 13.5039603520991, 8.176323164417516],\n",
    "['1', '?', 'Stem cell|Epithelial cell', '7.405988552514153|6.94665636004819', 1.0661227745635566],\n",
    "['10', 'Good', 'LGR5+ stem cell', 0.4515311265969228, '-'],\n",
    "['11', '?', 'Natural killer cell|Natural killer T (NKT) cell', '6.220128888075735|4.716953887305404', 1.3186749407951135],\n",
    "['12', 'Good', 'Follicular helper (Tfh) T cell', 2.0395464663838925, 5.262837321664994],\n",
    "['13', '?', 'Monocyte|Macrophage', '7.775149253244101|7.300776271963796', 1.0649756907497598],\n",
    "['14', '?', 'B cell|Monocyte', '8.877604414513305|8.019341042816869', 1.1070241765643831],\n",
    "['15', '?', 'Regulatory T (Treg) cell|T cell', '9.553171878515663|5.830713537800617', 1.6384224360504567],\n",
    "['16', 'Good', 'Natural killer T (NKT) cell', 12.762263672005355, 2.590420909203688],\n",
    "['17', '?', 'B cell|Natural killer T (NKT) cell', '10.019943935689373|5.592625739275372', 1.7916349855707743],\n",
    "['18', '?', 'Mesenchymal stem cell|Astrocyte', '8.72163411682708|7.206265265084938', 1.210284911254135],\n",
    "['19', 'Good', 'Endothelial cell', 12.66732020203273, 2.06757190587737],\n",
    "['2', '?', 'Natural killer T (NKT) cell|T cell', '6.437041806536354|5.3027762478767535', 1.2139003242148418],\n",
    "['20', '?', 'Mesenchymal stem cell|Astrocyte', '8.567137790087983|7.208846232954828', 1.1884201040277156],\n",
    "['21', '?', 'B cell|Natural killer T (NKT) cell', '9.181853435561|7.291855328450933', 1.259193034142598],\n",
    "['22', '?', 'Mast cell|Hematopoietic stem cell', '7.264891439672104|6.3042483839426815', 1.152380267594824],\n",
    "['3', '?', 'Natural killer T (NKT) cell|T helper cell', '5.089999937175556|3.7732027268885635', 1.3489866051731714],\n",
    "['4', '?', 'Natural killer cell|T cell', '6.672744460783595|6.42786041204717', 1.0380972879058576],\n",
    "['5', '?', 'CD8+ T cell|Natural killer T (NKT) cell', 'nan|nan', 'nan'],\n",
    "['6', '?', 'Microglial cell|T helper2 (Th2) cell', '5.6674005917775165|2.8762809288805062', 1.970391881707938],\n",
    "['7', '?', 'T cell|Natural killer T (NKT) cell', '5.939816411907659|5.161757383418162', 1.1507352962750566],\n",
    "['8', '?', 'T cell|Natural killer cell', '8.23750857698224|6.404606034860954', 1.2861850568394997],\n",
    "['9', '?', 'T cell|Natural killer cell', '6.717320760876801|5.587167462130855', 1.2022766108955902]]\n",
    "\n",
    "\n",
    "# extract annotations\n",
    "umap_cluster_names = [None for _ in range(len(umap_annotation_output))]\n",
    "for annotation in umap_annotation_output:\n",
    "    index = int(annotation[0])\n",
    "    name = annotation[2]\n",
    "    umap_cluster_names[index] = name"
   ]
  },
  {
   "cell_type": "code",
   "execution_count": null,
   "metadata": {},
   "outputs": [],
   "source": [
    "umap_cluster_names = annotation_abbr(umap_cluster_names)\n",
    "umap_cluster_names = names_make_unique(umap_cluster_names)\n",
    "# View cluster annotations and get the number of labels that needs extra attention\n",
    "for i,name in enumerate(umap_cluster_names):\n",
    "    print((i,name))\n",
    "\n",
    "combined_umap.rename_categories('leiden', umap_cluster_names)\n",
    "fig, ax = plt.subplots(figsize=(12,12))\n",
    "sc.pl.umap(combined_umap, color='leiden',legend_loc='on data',frameon=False,ax=ax)"
   ]
  }
 ],
 "metadata": {
  "kernelspec": {
   "display_name": "Python 3",
   "language": "python",
   "name": "python3"
  },
  "language_info": {
   "codemirror_mode": {
    "name": "ipython",
    "version": 3
   },
   "file_extension": ".py",
   "mimetype": "text/x-python",
   "name": "python",
   "nbconvert_exporter": "python",
   "pygments_lexer": "ipython3",
   "version": "3.6.9"
  }
 },
 "nbformat": 4,
 "nbformat_minor": 4
}

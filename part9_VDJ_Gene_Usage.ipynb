{
 "cells": [
  {
   "cell_type": "code",
   "execution_count": null,
   "metadata": {},
   "outputs": [],
   "source": [
    "import sys\n",
    "import numpy as np\n",
    "sys.path.insert(0, \"../..\")\n",
    "import scirpy as ir\n",
    "import scanpy as sc\n",
    "from glob import glob\n",
    "import pandas as pd\n",
    "import tarfile\n",
    "import anndata\n",
    "import warnings\n",
    "from matplotlib import pyplot as plt\n",
    "from numba import NumbaPerformanceWarning\n",
    "\n",
    "# ignore numba performance warnings\n",
    "warnings.filterwarnings(\"ignore\", category=NumbaPerformanceWarning)\n",
    "\n",
    "# suppress \"storing XXX as categorical\" warnings.\n",
    "anndata.logging.anndata_logger.setLevel(\"ERROR\")"
   ]
  },
  {
   "cell_type": "code",
   "execution_count": null,
   "metadata": {},
   "outputs": [],
   "source": [
    "combined = sc.read('/scratch/combined_umap_annotated.h5ad')"
   ]
  },
  {
   "cell_type": "code",
   "execution_count": null,
   "metadata": {},
   "outputs": [],
   "source": [
    "ir.pl.group_abundance(combined, groupby=\"TRB_1_v_gene\", target_col=\"leiden\", normalize=True, max_cols=10)"
   ]
  },
  {
   "cell_type": "code",
   "execution_count": null,
   "metadata": {},
   "outputs": [],
   "source": [
    "combined.obs['TRB_1_v_gene']"
   ]
  },
  {
   "cell_type": "code",
   "execution_count": null,
   "metadata": {},
   "outputs": [],
   "source": [
    "ir.pl.vdj_usage(combined[combined.obs[\"clonotype\"].isin([\"450\", \"419\"]), :], top_n=None)"
   ]
  },
  {
   "cell_type": "code",
   "execution_count": null,
   "metadata": {},
   "outputs": [],
   "source": []
  }
 ],
 "metadata": {
  "kernelspec": {
   "display_name": "Python 3",
   "language": "python",
   "name": "python3"
  },
  "language_info": {
   "codemirror_mode": {
    "name": "ipython",
    "version": 3
   },
   "file_extension": ".py",
   "mimetype": "text/x-python",
   "name": "python",
   "nbconvert_exporter": "python",
   "pygments_lexer": "ipython3",
   "version": "3.6.9"
  }
 },
 "nbformat": 4,
 "nbformat_minor": 4
}
